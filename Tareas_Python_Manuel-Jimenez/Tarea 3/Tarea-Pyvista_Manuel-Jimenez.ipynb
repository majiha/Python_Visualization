{
 "cells": [
  {
   "cell_type": "markdown",
   "metadata": {},
   "source": [
    "# Tarea Pyvista \n",
    "Manuel Jiménez Haro"
   ]
  },
  {
   "cell_type": "markdown",
   "metadata": {},
   "source": [
    "Tema 3 - Procesado de Mallas con PyVista (interior vs exterior de una malla)\n",
    "\n",
    "Proyecto de PyVista para procesamiento de mallas:"
   ]
  },
  {
   "cell_type": "markdown",
   "metadata": {},
   "source": [
    "###  1) Cargar Malla, Decimar, Suavizar"
   ]
  },
  {
   "cell_type": "code",
   "execution_count": 1,
   "metadata": {},
   "outputs": [],
   "source": [
    "import pyvista as pv\n",
    "pv.set_jupyter_backend('ipyvtklink')  \n",
    "import numpy as np"
   ]
  },
  {
   "cell_type": "code",
   "execution_count": 2,
   "metadata": {},
   "outputs": [
    {
     "data": {
      "application/vnd.jupyter.widget-view+json": {
       "model_id": "4efdbdf0fbe74c99bc48e5333e29664e",
       "version_major": 2,
       "version_minor": 0
      },
      "text/plain": [
       "ViewInteractiveWidget(height=768, layout=Layout(height='auto', width='100%'), width=1024)"
      ]
     },
     "metadata": {},
     "output_type": "display_data"
    }
   ],
   "source": [
    "#cargar malla\n",
    "mesh = pv.read('PK6.vtk')\n",
    "\n",
    "mesh.plot(show_edges=True)"
   ]
  },
  {
   "cell_type": "code",
   "execution_count": 3,
   "metadata": {},
   "outputs": [
    {
     "name": "stdout",
     "output_type": "stream",
     "text": [
      "Reducing 70.0 percent out of the original mesh\n"
     ]
    },
    {
     "data": {
      "application/vnd.jupyter.widget-view+json": {
       "model_id": "685cc284867547d686a92d926cae6b38",
       "version_major": 2,
       "version_minor": 0
      },
      "text/plain": [
       "ViewInteractiveWidget(height=768, layout=Layout(height='auto', width='100%'), width=1024)"
      ]
     },
     "metadata": {},
     "output_type": "display_data"
    }
   ],
   "source": [
    "#decimar\n",
    "target_reduction = 0.7\n",
    "print(f\"Reducing {target_reduction * 100.0} percent out of the original mesh\")\n",
    "\n",
    "decimated = mesh.decimate(target_reduction)\n",
    "decimated.plot(show_edges=True)"
   ]
  },
  {
   "cell_type": "code",
   "execution_count": 4,
   "metadata": {},
   "outputs": [
    {
     "data": {
      "application/vnd.jupyter.widget-view+json": {
       "model_id": "81d74898a59b41728ec12c8b2e98d8f3",
       "version_major": 2,
       "version_minor": 0
      },
      "text/plain": [
       "ViewInteractiveWidget(height=768, layout=Layout(height='auto', width='100%'), width=1024)"
      ]
     },
     "metadata": {},
     "output_type": "display_data"
    }
   ],
   "source": [
    "#suavizar\n",
    "# Get the out surface as PolyData\n",
    "surf = decimated.extract_geometry()\n",
    "# Smooth the surface\n",
    "smooth = surf.smooth(n_iter=1000)\n",
    "smooth.plot(show_edges=True)"
   ]
  },
  {
   "cell_type": "markdown",
   "metadata": {},
   "source": [
    "### 2) Calcular y Visualizar el campo de vectores normales a las caras"
   ]
  },
  {
   "cell_type": "code",
   "execution_count": 5,
   "metadata": {},
   "outputs": [
    {
     "data": {
      "text/html": [
       "<table><tr><th>Header</th><th>Data Arrays</th></tr><tr><td>\n",
       "<table>\n",
       "<tr><th>PolyData</th><th>Information</th></tr>\n",
       "<tr><td>N Cells</td><td>12643</td></tr>\n",
       "<tr><td>N Points</td><td>6377</td></tr>\n",
       "<tr><td>X Bounds</td><td>-2.414e+01, 4.745e+01</td></tr>\n",
       "<tr><td>Y Bounds</td><td>-2.248e+01, 5.939e+01</td></tr>\n",
       "<tr><td>Z Bounds</td><td>-3.721e+01, 2.538e+01</td></tr>\n",
       "<tr><td>N Arrays</td><td>2</td></tr>\n",
       "</table>\n",
       "\n",
       "</td><td>\n",
       "<table>\n",
       "<tr><th>Name</th><th>Field</th><th>Type</th><th>N Comp</th><th>Min</th><th>Max</th></tr>\n",
       "<tr><td>Normals</td><td>Points</td><td>float32</td><td>3</td><td>-1.000e+00</td><td>9.999e-01</td></tr>\n",
       "<tr><td>Normals</td><td>Cells</td><td>float32</td><td>3</td><td>-9.999e-01</td><td>9.999e-01</td></tr>\n",
       "</table>\n",
       "\n",
       "</td></tr> </table>"
      ],
      "text/plain": [
       "PolyData (0x1e529421400)\n",
       "  N Cells:\t12643\n",
       "  N Points:\t6377\n",
       "  X Bounds:\t-2.414e+01, 4.745e+01\n",
       "  Y Bounds:\t-2.248e+01, 5.939e+01\n",
       "  Z Bounds:\t-3.721e+01, 2.538e+01\n",
       "  N Arrays:\t2"
      ]
     },
     "execution_count": 5,
     "metadata": {},
     "output_type": "execute_result"
    }
   ],
   "source": [
    "# calculamos los vectores normales\n",
    "norm=smooth.compute_normals()\n",
    "norm\n"
   ]
  },
  {
   "cell_type": "code",
   "execution_count": 6,
   "metadata": {},
   "outputs": [
    {
     "data": {
      "application/vnd.jupyter.widget-view+json": {
       "model_id": "40ad1411936a4d3f83ef33488f2c3e8e",
       "version_major": 2,
       "version_minor": 0
      },
      "text/plain": [
       "ViewInteractiveWidget(height=768, layout=Layout(height='auto', width='100%'), width=1024)"
      ]
     },
     "metadata": {},
     "output_type": "display_data"
    }
   ],
   "source": [
    "norm.plot_normals(mag=3,faces=True, flip=True)"
   ]
  },
  {
   "cell_type": "markdown",
   "metadata": {},
   "source": [
    "### 3) Análisis del interior de la malla:"
   ]
  },
  {
   "cell_type": "markdown",
   "metadata": {},
   "source": [
    "#### 3.1) Rellenado del interior con puntos y visualización"
   ]
  },
  {
   "cell_type": "code",
   "execution_count": 20,
   "metadata": {},
   "outputs": [
    {
     "data": {
      "text/html": [
       "\n",
       "<table>\n",
       "<tr><th>PolyData</th><th>Information</th></tr>\n",
       "<tr><td>N Cells</td><td>12643</td></tr>\n",
       "<tr><td>N Points</td><td>6377</td></tr>\n",
       "<tr><td>X Bounds</td><td>-2.414e+01, 4.745e+01</td></tr>\n",
       "<tr><td>Y Bounds</td><td>-2.248e+01, 5.939e+01</td></tr>\n",
       "<tr><td>Z Bounds</td><td>-3.721e+01, 2.538e+01</td></tr>\n",
       "<tr><td>N Arrays</td><td>0</td></tr>\n",
       "</table>\n",
       "\n"
      ],
      "text/plain": [
       "PolyData (0x1e52940f6a0)\n",
       "  N Cells:\t12643\n",
       "  N Points:\t6377\n",
       "  X Bounds:\t-2.414e+01, 4.745e+01\n",
       "  Y Bounds:\t-2.248e+01, 5.939e+01\n",
       "  Z Bounds:\t-3.721e+01, 2.538e+01\n",
       "  N Arrays:\t0"
      ]
     },
     "execution_count": 20,
     "metadata": {},
     "output_type": "execute_result"
    }
   ],
   "source": [
    "smooth"
   ]
  },
  {
   "cell_type": "code",
   "execution_count": 21,
   "metadata": {},
   "outputs": [],
   "source": [
    "# Create random XYZ points\n",
    "points = np.random.rand(10000, 3)\n",
    "# determinamos el espacio\n",
    "points[:,0] = points[:,0]*(2.414e+01 + 4.745e+01)-2.414e+01\n",
    "points[:,1] = points[:,1]*(2.248e+01 + 5.939e+01)-2.248e+01\n",
    "points[:,2] = points[:,2]*(3.721e+01 + 2.538e+01)-3.721e+01"
   ]
  },
  {
   "cell_type": "code",
   "execution_count": 22,
   "metadata": {},
   "outputs": [
    {
     "data": {
      "text/html": [
       "\n",
       "<table>\n",
       "<tr><th>PolyData</th><th>Information</th></tr>\n",
       "<tr><td>N Cells</td><td>10000</td></tr>\n",
       "<tr><td>N Points</td><td>10000</td></tr>\n",
       "<tr><td>X Bounds</td><td>-2.414e+01, 4.744e+01</td></tr>\n",
       "<tr><td>Y Bounds</td><td>-2.248e+01, 5.937e+01</td></tr>\n",
       "<tr><td>Z Bounds</td><td>-3.721e+01, 2.538e+01</td></tr>\n",
       "<tr><td>N Arrays</td><td>0</td></tr>\n",
       "</table>\n",
       "\n"
      ],
      "text/plain": [
       "PolyData (0x1e54e5a8be0)\n",
       "  N Cells:\t10000\n",
       "  N Points:\t10000\n",
       "  X Bounds:\t-2.414e+01, 4.744e+01\n",
       "  Y Bounds:\t-2.248e+01, 5.937e+01\n",
       "  Z Bounds:\t-3.721e+01, 2.538e+01\n",
       "  N Arrays:\t0"
      ]
     },
     "execution_count": 22,
     "metadata": {},
     "output_type": "execute_result"
    }
   ],
   "source": [
    "# Make PolyData\n",
    "point_cloud = pv.PolyData(points)\n",
    "point_cloud"
   ]
  },
  {
   "cell_type": "code",
   "execution_count": 23,
   "metadata": {},
   "outputs": [
    {
     "data": {
      "application/vnd.jupyter.widget-view+json": {
       "model_id": "154f88cbefd74e1eb1653341af7aa3f2",
       "version_major": 2,
       "version_minor": 0
      },
      "text/plain": [
       "ViewInteractiveWidget(height=768, layout=Layout(height='auto', width='100%'), width=1024)"
      ]
     },
     "metadata": {},
     "output_type": "display_data"
    }
   ],
   "source": [
    "plotter = pv.Plotter()\n",
    "plotter.add_mesh(point_cloud, color='g')\n",
    "plotter.add_mesh(smooth, color='r')\n",
    "\n",
    "# plotter.camera_position = 'yz'\n",
    "plotter.show()"
   ]
  },
  {
   "cell_type": "markdown",
   "metadata": {},
   "source": [
    "#### 3.2) Filtrado de puntos que caen fuera de la malla"
   ]
  },
  {
   "cell_type": "code",
   "execution_count": 24,
   "metadata": {},
   "outputs": [
    {
     "data": {
      "application/vnd.jupyter.widget-view+json": {
       "model_id": "6ffe1794a86b47b1b9ebebecb47c7c07",
       "version_major": 2,
       "version_minor": 0
      },
      "text/plain": [
       "ViewInteractiveWidget(height=768, layout=Layout(height='auto', width='100%'), width=1024)"
      ]
     },
     "metadata": {},
     "output_type": "display_data"
    }
   ],
   "source": [
    "selected = point_cloud.select_enclosed_points(smooth, check_surface=False)\n",
    "pts = point_cloud.extract_points(selected['SelectedPoints'].view(bool),\n",
    "                           adjacent_cells=False)\n",
    "pl = pv.Plotter()\n",
    "_ = pl.add_mesh(smooth, style='wireframe')\n",
    "_ = pl.add_points(pts, color='g')\n",
    "pl.show()"
   ]
  }
 ],
 "metadata": {
  "interpreter": {
   "hash": "162ffc8ed2a5972a1a65b9f75daf92b30be94eae9b9e4281ea51ee5ee4c276ca"
  },
  "kernelspec": {
   "display_name": "Python 3.9.7 ('base')",
   "language": "python",
   "name": "python3"
  },
  "language_info": {
   "codemirror_mode": {
    "name": "ipython",
    "version": 3
   },
   "file_extension": ".py",
   "mimetype": "text/x-python",
   "name": "python",
   "nbconvert_exporter": "python",
   "pygments_lexer": "ipython3",
   "version": "3.9.7"
  },
  "orig_nbformat": 4
 },
 "nbformat": 4,
 "nbformat_minor": 2
}
